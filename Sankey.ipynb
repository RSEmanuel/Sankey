{
 "cells": [
  {
   "cell_type": "markdown",
   "id": "1212acf2",
   "metadata": {},
   "source": [
    "## Libraries"
   ]
  },
  {
   "cell_type": "code",
   "execution_count": null,
   "id": "a2405448",
   "metadata": {},
   "outputs": [],
   "source": [
    "import holoviews as hv\n",
    "from holoviews import dim\n",
    "hv.extension('bokeh')\n",
    "from bokeh.plotting import show\n",
    "from bokeh.io import export_svgs\n",
    "import pyperclip\n",
    "import pandas as pd\n",
    "from collections import Counter\n",
    "import itertools"
   ]
  },
  {
   "cell_type": "markdown",
   "id": "a05a0814",
   "metadata": {},
   "source": [
    "## Importig data from excel clipboard"
   ]
  },
  {
   "cell_type": "code",
   "execution_count": null,
   "id": "70f65de7",
   "metadata": {},
   "outputs": [],
   "source": [
    "df = pd.read_clipboard()\n",
    "df"
   ]
  },
  {
   "cell_type": "markdown",
   "id": "644dcb12",
   "metadata": {},
   "source": [
    "## GET LABELS AND COLORS"
   ]
  },
  {
   "cell_type": "code",
   "execution_count": null,
   "id": "bae2250c",
   "metadata": {},
   "outputs": [],
   "source": [
    "tracker_attrs = df.loc[df['FactorType'] == \"Tracking\"]\n",
    "attrs_path = df.loc[df['FactorType'] == \"Path\"]\n",
    "\n",
    "tracker_colors = dict(zip(tracker_attrs[\"FactorName\"], tracker_attrs[\"HexColor\"]))\n",
    "attr_colors = dict(zip(tracker_attrs[\"Attribute\"], itertools.repeat(\"#808080\")))\n",
    "path_colors = dict(zip(attrs_path[\"FactorName\"], attrs_path[\"HexColor\"]))"
   ]
  },
  {
   "cell_type": "code",
   "execution_count": null,
   "id": "0c3b340d",
   "metadata": {},
   "outputs": [],
   "source": [
    "all_labels = []\n",
    "all_labels  = list(tracker_colors.keys()) +  list(attr_colors.keys()) + list(path_colors.keys())\n",
    "all_labels"
   ]
  },
  {
   "cell_type": "code",
   "execution_count": null,
   "id": "1a43ca52",
   "metadata": {},
   "outputs": [],
   "source": [
    "colormap = []\n",
    "colormap = list(tracker_colors.values()) +  list(attr_colors.values()) + list(path_colors.values())\n",
    "print(colormap)"
   ]
  },
  {
   "cell_type": "markdown",
   "id": "e3f12a1a",
   "metadata": {},
   "source": [
    "## GET SOURCE AND TARGET"
   ]
  },
  {
   "cell_type": "code",
   "execution_count": null,
   "id": "d66b514c",
   "metadata": {},
   "outputs": [],
   "source": [
    "mapping_tracker = {item:i for i, item in enumerate(tracker_attrs[\"FactorName\"].unique())}\n",
    "sources = []\n",
    "targets = []\n",
    "for item in tracker_attrs[\"FactorName\"]:\n",
    "    sources.append(mapping_tracker[item])\n",
    "\n",
    "max_sources = max(sources)\n",
    "\n",
    "mapping_attrs = {item:i for i, item in enumerate(tracker_attrs[\"Attribute\"].unique())}\n",
    "\n",
    "for item in tracker_attrs[\"Attribute\"]:\n",
    "    sources.append(mapping_attrs[item] + (max_sources+1))\n",
    "    targets.append(mapping_attrs[item] + (max_sources+1))\n",
    "\n",
    "max_targets = max(targets)\n",
    "\n",
    "mapping_path = {item:i for i, item in enumerate(attrs_path[\"FactorName\"].unique())}\n",
    "for item in attrs_path[\"FactorName\"]:\n",
    "    targets.append(mapping_path[item] + (max_targets+1))\n",
    "\n",
    "\n",
    "source_target = list(zip(sources, targets))\n",
    "print(source_target)"
   ]
  },
  {
   "cell_type": "code",
   "execution_count": null,
   "id": "e6af9f49",
   "metadata": {},
   "outputs": [],
   "source": [
    "print(f\"{len(sources)}, {len(targets)}\")"
   ]
  },
  {
   "cell_type": "code",
   "execution_count": null,
   "id": "66a133e0",
   "metadata": {},
   "outputs": [],
   "source": [
    "source_target_weight = [(t[0], t[1], 1) for t in source_target]\n",
    "print(source_target_weight)"
   ]
  },
  {
   "cell_type": "markdown",
   "id": "9aa430be",
   "metadata": {},
   "source": [
    "## PLOT SANKEY"
   ]
  },
  {
   "cell_type": "code",
   "execution_count": null,
   "id": "fa5e41e6",
   "metadata": {
    "scrolled": true
   },
   "outputs": [],
   "source": [
    "hv.extension(\"bokeh\", \"matplotlib\")\n",
    "\n",
    "nodes = all_labels\n",
    "nodes = hv.Dataset(enumerate(nodes), 'index', 'label')\n",
    "edges = source_target_weight\n",
    "\n",
    "value_dim = hv.Dimension('origin')\n",
    "sankey = hv.Sankey((edges, nodes), ['From', 'To'], vdims=value_dim).opts(\n",
    "    fontsize={'title': 16, 'labels': 18}, \n",
    "    labels='label', \n",
    "    label_position='outer', \n",
    "    width=2700, \n",
    "    height=1080, \n",
    "    cmap=colormap,\n",
    "    node_color=dim('From').str(), \n",
    "    title=\"Tracker (Categoría) vs BSA (Marca)\", \n",
    "    node_width = 15, \n",
    "    node_alpha = 1.0,\n",
    "    show_values = False,\n",
    "    node_padding = 9,\n",
    "    label_text_font_size = '22pt')\n",
    "\n",
    "show(hv.render(sankey))"
   ]
  },
  {
   "cell_type": "code",
   "execution_count": null,
   "id": "73af7fdb",
   "metadata": {},
   "outputs": [],
   "source": [
    "renderer = hv.renderer(\"bokeh\")\n",
    "renderer.save(sankey.options(toolbar=None), \"sankey\", fmt=\"png\")"
   ]
  },
  {
   "cell_type": "code",
   "execution_count": null,
   "id": "4c9e3545",
   "metadata": {},
   "outputs": [],
   "source": []
  }
 ],
 "metadata": {
  "kernelspec": {
   "display_name": "Python 3 (ipykernel)",
   "language": "python",
   "name": "python3"
  },
  "language_info": {
   "codemirror_mode": {
    "name": "ipython",
    "version": 3
   },
   "file_extension": ".py",
   "mimetype": "text/x-python",
   "name": "python",
   "nbconvert_exporter": "python",
   "pygments_lexer": "ipython3",
   "version": "3.9.12"
  }
 },
 "nbformat": 4,
 "nbformat_minor": 5
}
